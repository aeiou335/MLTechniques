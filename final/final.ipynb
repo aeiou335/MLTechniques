{
 "cells": [
  {
   "cell_type": "code",
   "execution_count": 29,
   "metadata": {},
   "outputs": [
    {
     "name": "stderr",
     "output_type": "stream",
     "text": [
      "/Library/Frameworks/Python.framework/Versions/3.6/lib/python3.6/site-packages/ipykernel_launcher.py:10: FutureWarning: Sorting because non-concatenation axis is not aligned. A future version\n",
      "of pandas will change to not sort by default.\n",
      "\n",
      "To accept the future behavior, pass 'sort=True'.\n",
      "\n",
      "To retain the current behavior and silence the warning, pass sort=False\n",
      "\n",
      "  # Remove the CWD from sys.path while we load stuff.\n"
     ]
    }
   ],
   "source": [
    "import numpy as np\n",
    "import pandas as pd\n",
    "from sklearn.ensemble import RandomForestClassifier\n",
    "from sklearn.ensemble import RandomForestRegressor\n",
    "from sklearn.ensemble import GradientBoostingRegressor\n",
    "from collections import defaultdict\n",
    "train_data = pd.read_csv('./data/book_ratings_train.csv')\n",
    "test_data = pd.read_csv('./data/book_ratings_test.csv')\n",
    "user_data = pd.read_csv('./data/users.csv')\n",
    "all_user_book_pair = pd.concat([train_data, test_data])[['User-ID', 'ISBN']]\n",
    "\n"
   ]
  },
  {
   "cell_type": "code",
   "execution_count": 30,
   "metadata": {},
   "outputs": [
    {
     "name": "stdout",
     "output_type": "stream",
     "text": [
      "(260202, 3)\n",
      "(173469, 2)\n",
      "57758\n",
      "128932\n",
      "77805\n",
      "185973\n"
     ]
    }
   ],
   "source": [
    "print(train_data.shape)\n",
    "print(test_data.shape)\n",
    "print(len(train_data['User-ID'].unique()))\n",
    "print(len(train_data['ISBN'].unique()))\n",
    "print(len(all_user_book_pair['User-ID'].unique()))\n",
    "print(len(all_user_book_pair['ISBN'].unique()))\n"
   ]
  },
  {
   "cell_type": "code",
   "execution_count": 31,
   "metadata": {},
   "outputs": [
    {
     "name": "stdout",
     "output_type": "stream",
     "text": [
      "7.601225201958479 1.844145990351842\n",
      "nan\n"
     ]
    }
   ],
   "source": [
    "user2id = {}\n",
    "book2id = {}\n",
    "for i, userID in enumerate(all_user_book_pair['User-ID'].unique()):\n",
    "    user2id[userID] = i\n",
    "for j, bookID in enumerate(all_user_book_pair['ISBN'].unique()):\n",
    "    book2id[bookID] = j\n",
    "train_user = np.array([user2id[i] for i in train_data['User-ID']])\n",
    "train_book = np.array([book2id[j] for j in train_data['ISBN']])\n",
    "trainRating = np.array(train_data['Book-Rating'])\n",
    "mean = np.mean(trainRating)\n",
    "std = np.std(trainRating)\n",
    "\n",
    "#train_rating_normalized = (train_rating - mean) / std\n",
    "print(mean, std)\n",
    "print(np.mean(np.array(user_data['Age'])))"
   ]
  },
  {
   "cell_type": "code",
   "execution_count": 40,
   "metadata": {},
   "outputs": [
    {
     "name": "stdout",
     "output_type": "stream",
     "text": [
      "34.75143370454978\n"
     ]
    }
   ],
   "source": [
    "user_data = np.array(user_data)\n",
    "age=[]\n",
    "for user in user_data:\n",
    "    if not np.isnan(user[2]):\n",
    "        age.append(user[2])\n",
    "print(sum(age)/len(age))"
   ]
  },
  {
   "cell_type": "code",
   "execution_count": 42,
   "metadata": {},
   "outputs": [
    {
     "name": "stdout",
     "output_type": "stream",
     "text": [
      "['7c9fa136d4' 'nyc, new york, usa' nan]\n",
      "(260202, 12)\n",
      "[ 47.           0.           7.33227848   1.17880915   1.38959101\n",
      " 632.           8.           0.           0.           1.\n",
      "   3.           8.        ]\n"
     ]
    }
   ],
   "source": [
    "train_data = np.array(train_data)\n",
    "user_data = np.array(user_data)\n",
    "print(user_data[0])\n",
    "userRating = defaultdict(list)\n",
    "bookRating = defaultdict(list)\n",
    "userRegion = defaultdict(int)\n",
    "userAge = defaultdict(int)\n",
    "for data in train_data:\n",
    "    userRating[data[0]].append(data[2])\n",
    "    bookRating[data[1]].append(data[2])\n",
    "for user in user_data:\n",
    "    if 'usa' in user[1]:\n",
    "        userRegion[user[0]] = 1\n",
    "    else:\n",
    "        userRegion[user[0]] = 0\n",
    "    if not np.isnan(user[2]):\n",
    "        userAge[user[0]] = user[2]\n",
    "    else:\n",
    "        userAge[user[0]] = 34.75\n",
    "\n",
    "trainingFeatures = []\n",
    "for data in train_data:\n",
    "    userRatings = userRating[data[0]]\n",
    "    bookRatings = bookRating[data[1]]\n",
    "    age = userAge[data[0]]\n",
    "    region = userRegion[data[0]]\n",
    "    userMean = np.mean(userRatings)\n",
    "    userStd = np.std(userRatings)\n",
    "    userVar = np.var(userRatings)\n",
    "    userRatingNum = len(userRatings)\n",
    "    userMin = np.min(userRatings)\n",
    "    bookMean = np.mean(bookRatings)\n",
    "    bookStd = np.std(bookRatings)\n",
    "    bookVar = np.var(bookRatings)\n",
    "    bookRatingNum = len(bookRatings)\n",
    "    bookMin = np.min(bookRatings)\n",
    "    trainingFeatures.append([age,region,userMean,userStd,userVar,userRatingNum,bookMean,bookStd,bookVar,bookRatingNum,userMin,bookMin])\n",
    "trainingFeatures = np.array(trainingFeatures)\n",
    "#trainRating = np.array(train_data[2])\n",
    "print(trainingFeatures.shape)\n",
    "print(trainingFeatures[0])\n",
    "\n"
   ]
  },
  {
   "cell_type": "code",
   "execution_count": 43,
   "metadata": {},
   "outputs": [
    {
     "name": "stdout",
     "output_type": "stream",
     "text": [
      "[0.01102189 0.00086321 0.15654567 0.07236898 0.07210827 0.0364212\n",
      " 0.18038701 0.09923147 0.10877483 0.05391155 0.10532305 0.10304288]\n"
     ]
    }
   ],
   "source": [
    "gb = GradientBoostingRegressor(n_estimators=200,max_depth=4)\n",
    "gb.fit(trainingFeatures, trainRating)\n",
    "print(gb.feature_importances_)"
   ]
  },
  {
   "cell_type": "code",
   "execution_count": null,
   "metadata": {},
   "outputs": [],
   "source": [
    "forest = RandomForestRegressor(n_estimators = 20,criterion='mae',max_depth=2)\n",
    "forest.fit(trainingFeatures, trainRating)\n",
    "print(forest.feature_importances_)\n"
   ]
  },
  {
   "cell_type": "code",
   "execution_count": 47,
   "metadata": {},
   "outputs": [
    {
     "name": "stdout",
     "output_type": "stream",
     "text": [
      "(173469, 12)\n"
     ]
    }
   ],
   "source": [
    "test_data = np.array(test_data)\n",
    "testingFeatures = []\n",
    "for data in test_data:\n",
    "    userRatings = userRating[data[0]]\n",
    "    bookRatings = bookRating[data[1]]\n",
    "    age = userAge[data[0]]\n",
    "    region = userRegion[data[0]]\n",
    "    if userRatings == []:\n",
    "        userMean = mean\n",
    "        userStd = std\n",
    "        userVar = std**2\n",
    "        userRatingNum = 1\n",
    "        userMin = mean\n",
    "    else:\n",
    "        userMean = np.mean(userRatings)\n",
    "        userStd = np.std(userRatings)\n",
    "        userVar = np.var(userRatings)\n",
    "        userRatingNum = len(userRatings)\n",
    "        userMin = np.min(userRatings)\n",
    "    if bookRatings == []:\n",
    "        bookMean = mean\n",
    "        bookStd = std\n",
    "        bookVar = std**2\n",
    "        bookRatingNum = 1\n",
    "        bookMin = mean\n",
    "    else:\n",
    "        bookMean = np.mean(bookRatings)\n",
    "        bookStd = np.std(bookRatings)\n",
    "        bookVar = np.var(bookRatings)\n",
    "        bookRatingNum = len(bookRatings)\n",
    "        bookMin = np.min(bookRatings)\n",
    "    testingFeatures.append([age,region,userMean,userStd,userVar,userRatingNum,bookMean,bookStd,bookVar,bookRatingNum,userMin,bookMin])\n",
    "testingFeatures = np.array(testingFeatures)\n",
    "\n",
    "print(testingFeatures.shape)"
   ]
  },
  {
   "cell_type": "code",
   "execution_count": 48,
   "metadata": {},
   "outputs": [],
   "source": [
    "result = gb.predict(testingFeatures)"
   ]
  },
  {
   "cell_type": "code",
   "execution_count": 49,
   "metadata": {},
   "outputs": [
    {
     "name": "stdout",
     "output_type": "stream",
     "text": [
      "173469\n",
      "[7.68962319 7.21664223 8.49809213 6.38170999 8.85024112]\n",
      "[8. 7. 8. 6. 9.]\n"
     ]
    }
   ],
   "source": [
    "print(len(result))\n",
    "print(result[0:5])\n",
    "print(np.around(result[0:5]))"
   ]
  },
  {
   "cell_type": "code",
   "execution_count": 50,
   "metadata": {},
   "outputs": [],
   "source": [
    "with open('ans.csv', 'w') as f:\n",
    "    for i in range(len(result)):\n",
    "        f.write('%d\\n' %(result[i]))\n",
    "        \n",
    "with open('ansround.csv', 'w') as f:\n",
    "    for i in range(len(result)):\n",
    "        f.write('%d\\n' %(int(np.round(result[i]))))"
   ]
  },
  {
   "cell_type": "code",
   "execution_count": null,
   "metadata": {},
   "outputs": [],
   "source": []
  }
 ],
 "metadata": {
  "kernelspec": {
   "display_name": "Python 3",
   "language": "python",
   "name": "python3"
  }
 },
 "nbformat": 4,
 "nbformat_minor": 2
}
